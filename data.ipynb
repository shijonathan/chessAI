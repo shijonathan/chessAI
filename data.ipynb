{
 "cells": [
  {
   "cell_type": "code",
   "execution_count": 1,
   "metadata": {},
   "outputs": [
    {
     "name": "stdout",
     "output_type": "stream",
     "text": [
      "11785614\n"
     ]
    }
   ],
   "source": [
    "data = open('out.txt','r')\n",
    "lines = [line for line in data.readlines() if line.strip()]\n",
    "data.close()\n",
    "print(len(lines))"
   ]
  },
  {
   "cell_type": "code",
   "execution_count": 2,
   "metadata": {},
   "outputs": [],
   "source": [
    "import numpy as np"
   ]
  },
  {
   "cell_type": "code",
   "execution_count": 3,
   "metadata": {},
   "outputs": [
    {
     "name": "stdout",
     "output_type": "stream",
     "text": [
      "12\n"
     ]
    }
   ],
   "source": [
    "pieces = {\n",
    "    \"P\":1,\n",
    "    \"N\":2,\n",
    "    \"B\":3,\n",
    "    \"R\":4,\n",
    "    \"Q\":5,\n",
    "    \"K\":6,\n",
    "    \"p\":7,\n",
    "    \"n\":8,\n",
    "    \"b\":9,\n",
    "    \"r\":10,\n",
    "    \"q\":11,\n",
    "    \"k\":12\n",
    "}\n",
    "print(pieces[\"k\"])"
   ]
  },
  {
   "cell_type": "code",
   "execution_count": 4,
   "metadata": {},
   "outputs": [],
   "source": [
    "def onehot(row):\n",
    "    new_row = []\n",
    "    for i in row:\n",
    "        element = [0,0,0,0,0,0,0,0,0,0,0,0]\n",
    "        if (i != 0):\n",
    "            element[i-1] = 1\n",
    "        new_row.append(element)\n",
    "    return new_row"
   ]
  },
  {
   "cell_type": "code",
   "execution_count": 5,
   "metadata": {},
   "outputs": [
    {
     "name": "stdout",
     "output_type": "stream",
     "text": [
      "1178559\n",
      "2357119\n",
      "3535679\n",
      "4714239\n",
      "5892799\n",
      "7071359\n",
      "8249919\n",
      "9428479\n",
      "10607039\n",
      "11785599\n"
     ]
    }
   ],
   "source": [
    "boards = []\n",
    "results = []\n",
    "bwins = 0\n",
    "wwins = 0\n",
    "tie = 0\n",
    "\n",
    "wins = {'0-1':1,'1-0':-1,'1/2':0}\n",
    "\n",
    "for i,line in enumerate(lines):\n",
    "    # 1-0 is black, 0-1 is white, 1/2-1/2 is tie\n",
    "    words = line.split(' ')\n",
    "    fen = words[0]\n",
    "    result = words[-1]\n",
    "    result = wins[result[0:3]]\n",
    "    if result == 1:\n",
    "        wwins += 1\n",
    "    elif result == 0:\n",
    "        tie += 1\n",
    "    elif result == -1:\n",
    "        bwins += 1\n",
    "\n",
    "    board = []\n",
    "    rows = fen.split('/')\n",
    "    for row in rows:\n",
    "        row_temp = []\n",
    "        for piece in row:\n",
    "            if piece.isdigit():\n",
    "                for j in range(int(piece)):\n",
    "                    row_temp.append(0)\n",
    "            else:\n",
    "                row_temp.append(pieces[piece])\n",
    "        board.append(onehot(row_temp))\n",
    "    temp = np.array(board,dtype=np.uint8).reshape(768)\n",
    "    boards.append(temp)\n",
    "    results.append(result)\n",
    "    if((i+1)%(1178560)==0):\n",
    "        print(i)"
   ]
  },
  {
   "cell_type": "code",
   "execution_count": 8,
   "metadata": {},
   "outputs": [],
   "source": [
    "data_processed = np.array(boards)\n",
    "results_processed = np.array(results)\n",
    "data_processed.shape\n",
    "results_processed.shape"
   ]
  },
  {
   "cell_type": "code",
   "execution_count": null,
   "metadata": {},
   "outputs": [],
   "source": [
    "import gzip\n",
    "f = gzip.GzipFile(\"data_processed.npy.gz\", \"w\")\n",
    "f1 = gzip.GzipFile(\"results_processed.npy.gz\",\"w\")\n",
    "np.save(file=f, arr=data_processed)\n",
    "np.save(file=f1,arr=results)\n",
    "f.close()\n",
    "f1.close()"
   ]
  },
  {
   "cell_type": "code",
   "execution_count": null,
   "metadata": {},
   "outputs": [],
   "source": [
    "f = gzip.GzipFile('data_processed.npy.gz', \"r\"); np.load(f)"
   ]
  }
 ],
 "metadata": {
  "kernelspec": {
   "display_name": "Python 3",
   "language": "python",
   "name": "python3"
  },
  "language_info": {
   "codemirror_mode": {
    "name": "ipython",
    "version": 3
   },
   "file_extension": ".py",
   "mimetype": "text/x-python",
   "name": "python",
   "nbconvert_exporter": "python",
   "pygments_lexer": "ipython3",
   "version": "3.11.3"
  },
  "orig_nbformat": 4
 },
 "nbformat": 4,
 "nbformat_minor": 2
}
